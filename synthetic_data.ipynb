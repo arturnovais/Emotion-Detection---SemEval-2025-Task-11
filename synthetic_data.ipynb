{
 "cells": [
  {
   "cell_type": "markdown",
   "metadata": {},
   "source": [
    "#### Funções"
   ]
  },
  {
   "cell_type": "code",
   "execution_count": 3,
   "metadata": {},
   "outputs": [],
   "source": [
    "import pandas as pd"
   ]
  },
  {
   "cell_type": "code",
   "execution_count": 2,
   "metadata": {},
   "outputs": [],
   "source": [
    "def get_data(dir= 'data', split= 'train', track= 'a', language= 'ptbr'):\n",
    "    \n",
    "    archive = language + '.csv' if split == 'train' else language + '_' + track + '.csv'\n",
    "\n",
    "    path = f'{dir}/{split}/track_{track}/{archive}'\n",
    "    \n",
    "    return pd.read_csv(path)"
   ]
  },
  {
   "cell_type": "markdown",
   "metadata": {},
   "source": [
    "## Abordagem 1"
   ]
  },
  {
   "cell_type": "markdown",
   "metadata": {},
   "source": [
    "Vamos contemplar, primeiramente, a geração de dados sintéticos para a track A, onde temos uma classificação binária de emoções.\n",
    "\n",
    "Seguiremos a abordagem do artigo: https://aclanthology.org/2024.acl-long.120.pdf\n",
    "\n",
    "\n",
    "Focaremos na variabilidade desses dados, e uma abordagem few shot, iremos variar na seguinte medida:\n",
    "\n",
    "\n",
    "    - Emoções (faremos isso dinâmico em função do dataset (a probabilidade será proporcional a quantidade de amostras))\n",
    "    - Tamanho do tweet (amostrados em função dos tamanhos reais)\n",
    "    - Intensidade do sentimento (leve, moderado, forte)\n",
    "\n",
    "\n",
    "\n",
    "Os dados serão retornados em formato de JSON"
   ]
  },
  {
   "cell_type": "code",
   "execution_count": 14,
   "metadata": {},
   "outputs": [],
   "source": [
    "df = get_data()\n",
    "\n",
    "'''Vamos estratificar o dataset, tendo somente uma coluna de emoções'''\n",
    "emotion_columns = ['Anger', 'Disgust', 'Fear', 'Joy', 'Sadness', 'Surprise']\n",
    "df['labels'] = df[emotion_columns].apply(\n",
    "    lambda row: ' '.join([col for col, val in row.items() if val == 1]),\n",
    "    axis=1\n",
    ")\n",
    "\n",
    "df = df.drop(columns=emotion_columns)"
   ]
  },
  {
   "cell_type": "code",
   "execution_count": 15,
   "metadata": {},
   "outputs": [
    {
     "data": {
      "text/plain": [
       "array(['Sadness', 'Joy', '', 'Anger', 'Anger Sadness', 'Surprise',\n",
       "       'Disgust', 'Anger Surprise', 'Joy Surprise', 'Fear',\n",
       "       'Anger Sadness Surprise', 'Anger Fear', 'Anger Disgust',\n",
       "       'Anger Joy', 'Anger Disgust Sadness', 'Fear Sadness',\n",
       "       'Fear Surprise', 'Disgust Sadness', 'Anger Joy Surprise',\n",
       "       'Joy Sadness', 'Anger Joy Sadness', 'Anger Fear Sadness',\n",
       "       'Anger Disgust Fear Sadness', 'Fear Joy', 'Anger Fear Surprise',\n",
       "       'Fear Joy Sadness', 'Disgust Surprise', 'Disgust Sadness Surprise',\n",
       "       'Sadness Surprise', 'Anger Disgust Surprise',\n",
       "       'Joy Sadness Surprise', 'Disgust Fear'], dtype=object)"
      ]
     },
     "execution_count": 15,
     "metadata": {},
     "output_type": "execute_result"
    }
   ],
   "source": [
    "df['labels'].unique()"
   ]
  },
  {
   "cell_type": "code",
   "execution_count": 16,
   "metadata": {},
   "outputs": [
    {
     "data": {
      "text/html": [
       "<div>\n",
       "<style scoped>\n",
       "    .dataframe tbody tr th:only-of-type {\n",
       "        vertical-align: middle;\n",
       "    }\n",
       "\n",
       "    .dataframe tbody tr th {\n",
       "        vertical-align: top;\n",
       "    }\n",
       "\n",
       "    .dataframe thead th {\n",
       "        text-align: right;\n",
       "    }\n",
       "</style>\n",
       "<table border=\"1\" class=\"dataframe\">\n",
       "  <thead>\n",
       "    <tr style=\"text-align: right;\">\n",
       "      <th></th>\n",
       "      <th>id</th>\n",
       "      <th>text</th>\n",
       "      <th>labels</th>\n",
       "    </tr>\n",
       "  </thead>\n",
       "  <tbody>\n",
       "    <tr>\n",
       "      <th>0</th>\n",
       "      <td>ptbr_train_track_a_00001</td>\n",
       "      <td>minha vó me disse que era frango e eu comi, ti...</td>\n",
       "      <td>Sadness</td>\n",
       "    </tr>\n",
       "    <tr>\n",
       "      <th>1</th>\n",
       "      <td>ptbr_train_track_a_00002</td>\n",
       "      <td>Está e a nossa deputada Benedita linda guerrei...</td>\n",
       "      <td>Joy</td>\n",
       "    </tr>\n",
       "    <tr>\n",
       "      <th>2</th>\n",
       "      <td>ptbr_train_track_a_00003</td>\n",
       "      <td>só falta as roupas kkkkkkkkkkk</td>\n",
       "      <td>Joy</td>\n",
       "    </tr>\n",
       "    <tr>\n",
       "      <th>3</th>\n",
       "      <td>ptbr_train_track_a_00004</td>\n",
       "      <td>Eu tmb. Comecei a sair de casa agora (fui pela...</td>\n",
       "      <td>Sadness</td>\n",
       "    </tr>\n",
       "    <tr>\n",
       "      <th>4</th>\n",
       "      <td>ptbr_train_track_a_00005</td>\n",
       "      <td>Peço a Deus que nossos dirigentes tenham realm...</td>\n",
       "      <td></td>\n",
       "    </tr>\n",
       "    <tr>\n",
       "      <th>...</th>\n",
       "      <td>...</td>\n",
       "      <td>...</td>\n",
       "      <td>...</td>\n",
       "    </tr>\n",
       "    <tr>\n",
       "      <th>2221</th>\n",
       "      <td>ptbr_train_track_a_02222</td>\n",
       "      <td>Eu acho que o CAP vai surpreender hein.</td>\n",
       "      <td>Surprise</td>\n",
       "    </tr>\n",
       "    <tr>\n",
       "      <th>2222</th>\n",
       "      <td>ptbr_train_track_a_02223</td>\n",
       "      <td>23:59 - Lula sabia de toda a corrupção no seu ...</td>\n",
       "      <td>Anger</td>\n",
       "    </tr>\n",
       "    <tr>\n",
       "      <th>2223</th>\n",
       "      <td>ptbr_train_track_a_02224</td>\n",
       "      <td>O Brasil precisa URGENTE de pessoas sérias e c...</td>\n",
       "      <td>Anger</td>\n",
       "    </tr>\n",
       "    <tr>\n",
       "      <th>2224</th>\n",
       "      <td>ptbr_train_track_a_02225</td>\n",
       "      <td>Sera que só eu acho que ta passando da hora de...</td>\n",
       "      <td>Anger</td>\n",
       "    </tr>\n",
       "    <tr>\n",
       "      <th>2225</th>\n",
       "      <td>ptbr_train_track_a_02226</td>\n",
       "      <td>falta só 2 porra</td>\n",
       "      <td>Joy</td>\n",
       "    </tr>\n",
       "  </tbody>\n",
       "</table>\n",
       "<p>2226 rows × 3 columns</p>\n",
       "</div>"
      ],
      "text/plain": [
       "                            id  \\\n",
       "0     ptbr_train_track_a_00001   \n",
       "1     ptbr_train_track_a_00002   \n",
       "2     ptbr_train_track_a_00003   \n",
       "3     ptbr_train_track_a_00004   \n",
       "4     ptbr_train_track_a_00005   \n",
       "...                        ...   \n",
       "2221  ptbr_train_track_a_02222   \n",
       "2222  ptbr_train_track_a_02223   \n",
       "2223  ptbr_train_track_a_02224   \n",
       "2224  ptbr_train_track_a_02225   \n",
       "2225  ptbr_train_track_a_02226   \n",
       "\n",
       "                                                   text    labels  \n",
       "0     minha vó me disse que era frango e eu comi, ti...   Sadness  \n",
       "1     Está e a nossa deputada Benedita linda guerrei...       Joy  \n",
       "2                        só falta as roupas kkkkkkkkkkk       Joy  \n",
       "3     Eu tmb. Comecei a sair de casa agora (fui pela...   Sadness  \n",
       "4     Peço a Deus que nossos dirigentes tenham realm...            \n",
       "...                                                 ...       ...  \n",
       "2221            Eu acho que o CAP vai surpreender hein.  Surprise  \n",
       "2222  23:59 - Lula sabia de toda a corrupção no seu ...     Anger  \n",
       "2223  O Brasil precisa URGENTE de pessoas sérias e c...     Anger  \n",
       "2224  Sera que só eu acho que ta passando da hora de...     Anger  \n",
       "2225                                   falta só 2 porra       Joy  \n",
       "\n",
       "[2226 rows x 3 columns]"
      ]
     },
     "execution_count": 16,
     "metadata": {},
     "output_type": "execute_result"
    }
   ],
   "source": [
    "df"
   ]
  },
  {
   "cell_type": "code",
   "execution_count": null,
   "metadata": {},
   "outputs": [],
   "source": []
  }
 ],
 "metadata": {
  "kernelspec": {
   "display_name": "Python 3 (ipyflow)",
   "language": "python",
   "name": "ipyflow"
  },
  "language_info": {
   "codemirror_mode": {
    "name": "ipython",
    "version": 3
   },
   "file_extension": ".py",
   "mimetype": "text/x-python",
   "name": "python",
   "nbconvert_exporter": "python",
   "pygments_lexer": "ipython3",
   "version": "3.12.7"
  }
 },
 "nbformat": 4,
 "nbformat_minor": 2
}
