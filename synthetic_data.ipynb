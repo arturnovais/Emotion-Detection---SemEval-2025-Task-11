{
 "cells": [
  {
   "cell_type": "markdown",
   "metadata": {},
   "source": [
    "#### Funções"
   ]
  },
  {
   "cell_type": "code",
   "execution_count": 18,
   "metadata": {},
   "outputs": [],
   "source": [
    "import pandas as pd\n",
    "from collections import Counter\n",
    "import random\n",
    "from utils.Gpt_generator import Gpt_generator\n",
    "from utils.Json_controller import Json_controller\n",
    "import time"
   ]
  },
  {
   "cell_type": "code",
   "execution_count": 19,
   "metadata": {},
   "outputs": [],
   "source": [
    "def get_data(dir= 'data', split= 'train', track= 'a', language= 'ptbr'):\n",
    "    \n",
    "    archive = language + '.csv' if split == 'train' else language + '_' + track + '.csv'\n",
    "\n",
    "    path = f'{dir}/{split}/track_{track}/{archive}'\n",
    "    \n",
    "    return pd.read_csv(path)"
   ]
  },
  {
   "cell_type": "markdown",
   "metadata": {},
   "source": [
    "## Abordagem 1"
   ]
  },
  {
   "cell_type": "markdown",
   "metadata": {},
   "source": [
    "Vamos contemplar, primeiramente, a geração de dados sintéticos para a track A, onde temos uma classificação binária de emoções.\n",
    "\n",
    "Seguiremos a abordagem do artigo: https://aclanthology.org/2024.acl-long.120.pdf\n",
    "\n",
    "\n",
    "Focaremos na variabilidade desses dados, e uma abordagem few shot, iremos variar na seguinte medida:\n",
    "\n",
    "\n",
    "    - Emoções (faremos isso dinâmico em função do dataset (a probabilidade será proporcional a quantidade de amostras))\n",
    "    - Tamanho do tweet (amostrados em função dos tamanhos reais)\n",
    "    - Intensidade do sentimento (leve, moderado, forte)\n",
    "\n",
    "\n",
    "\n",
    "Os dados serão retornados em formato de JSON"
   ]
  },
  {
   "cell_type": "code",
   "execution_count": 20,
   "metadata": {},
   "outputs": [],
   "source": [
    "df = get_data()\n",
    "\n",
    "'''Vamos estratificar o dataset, tendo somente uma coluna de emoções, isso nos ajuda, pois teremos agora também as \n",
    "combinações de emoções, posteriormente, vamos amostrar essas emoções para geração de novos dados, dando maior probabilidade a \n",
    "emoções ou combinações mais raras, atualizando isso de maneira dinâmica para atualizar a geração.'''\n",
    "\n",
    "\n",
    "emotion_columns = ['Anger', 'Disgust', 'Fear', 'Joy', 'Sadness', 'Surprise']\n",
    "df['labels'] = df[emotion_columns].apply(\n",
    "    lambda row: ' '.join([col for col, val in row.items() if val == 1]),\n",
    "    axis=1\n",
    ")\n",
    "\n",
    "\n",
    "df['labels'] = df['labels'].apply(\n",
    "    lambda x: 'Neutral' if x == '' else x\n",
    ")\n",
    "\n",
    "df = df.drop(columns=emotion_columns)"
   ]
  },
  {
   "cell_type": "code",
   "execution_count": 21,
   "metadata": {},
   "outputs": [],
   "source": [
    "def categorize(length):\n",
    "        if length <= 11:\n",
    "            return \"Pequeno\"\n",
    "        elif length <= 26:\n",
    "            return \"Médio\"\n",
    "        elif length >= 26:\n",
    "            return \"Grande\"\n",
    "        \n",
    "\n",
    "'''Gera a distribuição de tamanhos de texto'''\n",
    "category_counts = dict(Counter(df['text'].apply(lambda x: categorize(len(x.split())))))\n",
    "'''Gera a distribuição de emoções'''\n",
    "emotion_counts = dict(Counter(df['labels']))\n",
    "\n",
    "'''Gera uma distribuição da intensidade de emoções (baseados nos dados da track b)'''\n",
    "aux = get_data(track='b')\n",
    "intensity_counts = {\n",
    "    emotion: (aux[aux[emotion] > 0][emotion].value_counts(normalize=True) * 100).round(2).to_dict()\n",
    "    for emotion in emotion_columns\n",
    "}\n",
    "\n",
    "intensity_counts = {\n",
    "    emotion: {\n",
    "        \"baixo\": values.get(1, 0), \n",
    "        \"moderado\": values.get(2, 0),\n",
    "        \"alto\": values.get(3, 0)\n",
    "    }\n",
    "    for emotion, values in intensity_counts.items()\n",
    "}"
   ]
  },
  {
   "cell_type": "code",
   "execution_count": 22,
   "metadata": {},
   "outputs": [],
   "source": [
    "def amostra_categoria_e_emocao(label_dict, category_dict, intensity_counts):\n",
    "    '''Amostraremos baseado no tamanhjo do texto, emoção e intensidade da emoção.\n",
    "    \n",
    "    Para o tamanho e emoção, temos um dicionario dinâmico, onde as probabilidades da amostragem de cada emoção mudam ao longo\n",
    "    do tempo, baseado na quantidade de vezes que cada emoção foi amostrada. Para a intensidade, faremos de maneira estática, visto que\n",
    "    dados menos comuns são dados extremos (emoção alta), o que é muito fácil de se identificar no caso da track A. Por isso, usaremos como\n",
    "    probabilidade a presença de cada intensidade em cada emoção nos dados da track b, adicionamos essa \"feature\" apenas para gerar mais \n",
    "    variabilidade.\n",
    "    '''\n",
    "    inverse_weights_labels = {label: 1 / count for label, count in label_dict.items() if count > 0}\n",
    "    total_weight_labels = sum(inverse_weights_labels.values())\n",
    "    probabilities_labels = {label: weight / total_weight_labels for label, weight in inverse_weights_labels.items()}\n",
    "    labels = list(probabilities_labels.keys())\n",
    "    weights_labels = list(probabilities_labels.values())\n",
    "    sampled_label = random.choices(labels, weights=weights_labels, k=1)[0]\n",
    "    label_dict[sampled_label] += 1\n",
    "\n",
    "    inverse_weights_categories = {category: 1 / count for category, count in category_dict.items() if count > 0}\n",
    "    total_weight_categories = sum(inverse_weights_categories.values())\n",
    "    probabilities_categories = {category: weight / total_weight_categories for category, weight in inverse_weights_categories.items()}\n",
    "    categories = list(probabilities_categories.keys())\n",
    "    weights_categories = list(probabilities_categories.values())\n",
    "    sampled_category = random.choices(categories, weights=weights_categories, k=1)[0]\n",
    "    category_dict[sampled_category] += 1\n",
    "            \n",
    "    intensity_emotion = {}\n",
    "    for emotion in intensity_counts:\n",
    "        if str(emotion) in sampled_label:\n",
    "            probabilities = intensity_counts[str(emotion)]\n",
    "            categories = list(probabilities.keys())\n",
    "            weights = list(probabilities.values())\n",
    "            intensity = random.choices(categories, weights=weights, k=1)[0]\n",
    "            intensity_emotion[emotion] = intensity\n",
    "\n",
    "    # Caso nenhuma intensidade seja encontrada, o dicionário ficará vazio\n",
    "    if not intensity_emotion:\n",
    "        intensity_emotion = {\"Nenhuma\": \"intensidade encontrada\"}\n",
    "\n",
    "    return intensity_emotion, sampled_category"
   ]
  },
  {
   "cell_type": "markdown",
   "metadata": {},
   "source": [
    "### Geração do prompt"
   ]
  },
  {
   "cell_type": "code",
   "execution_count": 23,
   "metadata": {},
   "outputs": [],
   "source": [
    "prompt = \"\"\"\n",
    "Você é um assistente criativo especializado em criar textos sintéticos que simulam postagens informais, mas realistas,\n",
    "para redes sociais. Esses textos devem refletir emoções genuínas e naturais, sem exageros ou estereótipos. \n",
    "\n",
    "Para criar esses textos:\n",
    "- Use gírias, abreviações e expressões informais comuns no ambiente online.\n",
    "- Os textos podem conter xingamentos ou linguagem inapropriada.\n",
    "- Não use emojis ou hashtags, a menos que sejam essenciais para a naturalidade do texto.\n",
    "- Insira as emoções indicadas com as intensidades especificadas de maneira criativa, mas coerente com o texto. Não é necessário usar as mesmas palavras das emoções, mas elas devem ser perceptíveis no contexto.\n",
    "- Atenda ao tamanho do texto solicitado.\n",
    "\n",
    "Exemplos:\n",
    "Os exemplos abaixo mostram o estilo esperado. Leia com atenção para entender como transmitir as emoções de forma autêntica:\n",
    "\n",
    "{exemplos}\n",
    "\n",
    "Sua Tarefa:\n",
    "- Gerar um texto em português seguindo o estilo dos exemplos fornecidos.\n",
    "- Atender às seguintes características:\n",
    "  - Emoções PARA GERAR (IMPORTANTE): {emoções}\n",
    "  - Tamanho do texto: {tamanho}\n",
    "- Certifique-se de que as emoções aparecem no texto nas intensidades indicadas, mas sem tornar isso explícito ou forçado.\n",
    "\n",
    "Regras Importantes:\n",
    "1. Não copie os exemplos diretamente. Use sua criatividade para criar algo original.\n",
    "2. O texto deve parecer uma postagem real, como se fosse escrito por uma pessoa comum.\n",
    "3. Evite clichês ou exageros que possam tornar o texto artificial.\n",
    "4. Foque na linguagem e tom apropriados para um post informal, mas autêntico.\n",
    "\n",
    "Gere o texto solicitado abaixo:\n",
    "\"\"\"\n",
    "\n",
    "\n",
    "def sample_data_for_emotions(df, emotion_intensity):\n",
    "    required_emotions = set(emotion_intensity.keys())\n",
    "    def contains_all_emotions(label):\n",
    "        label_emotions = set(label.split())\n",
    "        return required_emotions.issubset(label_emotions)\n",
    "    filtered_df = df[df['labels'].apply(contains_all_emotions)]\n",
    "\n",
    "    return filtered_df\n",
    "\n",
    "\n",
    "def few_shot_examples(df, emotion_intensity, n=8):\n",
    "    filtered_df = sample_data_for_emotions(df, emotion_intensity)\n",
    "\n",
    "    if filtered_df.empty:\n",
    "        return \"Nenhum exemplo encontrado com as emoções especificadas.\"\n",
    "\n",
    "    examples = filtered_df.sample(min(n-3, len(filtered_df)), random_state=42)\n",
    "    random_examples = df.sample(3, random_state=42)\n",
    "    combined_examples = pd.concat([examples, random_examples]).sample(frac=1, random_state=42)\n",
    "\n",
    "    formatted_examples = [\n",
    "        f\"- Emoções: {row['labels']}\\n- Texto: {row['text']}\"\n",
    "        for _, row in combined_examples.iterrows()\n",
    "    ]\n",
    "\n",
    "    return '\\n\\n'.join(formatted_examples)\n",
    "\n",
    "\n",
    "def get_prompt(intensity_emotion : dict, lenght : str, df : pd.DataFrame):\n",
    "    #print(intensity_emotion)\n",
    "    examples = few_shot_examples(df, intensity_emotion)\n",
    "    emocoes = ', '.join([f\"{emocao} com intensidade {intensidade}\" for emocao, intensidade in intensity_emotion.items()])\n",
    "    return prompt.format(exemplos=examples, tamanho=lenght, emoções=emocoes)\n",
    "    "
   ]
  },
  {
   "cell_type": "markdown",
   "metadata": {},
   "source": [
    "### Geração dos dados"
   ]
  },
  {
   "cell_type": "code",
   "execution_count": 24,
   "metadata": {},
   "outputs": [],
   "source": [
    "from utils.Gpt_generator import Gpt_generator\n",
    "llm = Gpt_generator()"
   ]
  },
  {
   "cell_type": "code",
   "execution_count": 25,
   "metadata": {},
   "outputs": [
    {
     "name": "stdout",
     "output_type": "stream",
     "text": [
      "Sério que esqueceram um chiclete grudado na minha carteira da facul? Pô, que falta de noção.\n"
     ]
    }
   ],
   "source": [
    "prompt = get_prompt({'Disgust': 'baixo'}, 'Pequeno', df)\n",
    "\n",
    "print(llm.invoke(prompt))"
   ]
  },
  {
   "cell_type": "code",
   "execution_count": 26,
   "metadata": {},
   "outputs": [
    {
     "name": "stdout",
     "output_type": "stream",
     "text": [
      "\n",
      "Você é um assistente criativo especializado em criar textos sintéticos que simulam postagens informais, mas realistas,\n",
      "para redes sociais. Esses textos devem refletir emoções genuínas e naturais, sem exageros ou estereótipos. \n",
      "\n",
      "Para criar esses textos:\n",
      "- Use gírias, abreviações e expressões informais comuns no ambiente online.\n",
      "- Os textos podem conter xingamentos ou linguagem inapropriada.\n",
      "- Não use emojis ou hashtags, a menos que sejam essenciais para a naturalidade do texto.\n",
      "- Insira as emoções indicadas com as intensidades especificadas de maneira criativa, mas coerente com o texto. Não é necessário usar as mesmas palavras das emoções, mas elas devem ser perceptíveis no contexto.\n",
      "- Atenda ao tamanho do texto solicitado.\n",
      "\n",
      "Exemplos:\n",
      "Os exemplos abaixo mostram o estilo esperado. Leia com atenção para entender como transmitir as emoções de forma autêntica:\n",
      "\n",
      "- Emoções: Disgust\n",
      "- Texto: nao acredito que meu pao mofou de novo que nojo\n",
      "\n",
      "- Emoções: Anger Disgust\n",
      "- Texto: Fortalece a esquerda é vocês , atacando o filho do presidente que vocês tanto defendiam, muda o foco mulher, quem Apoia o Bolsonaro,lógico que apoia os filhos dele tbm, melhore mulher!\n",
      "\n",
      "- Emoções: Anger Disgust Sadness\n",
      "- Texto: Cacete quanta criança que nunca viu uma fila do INSS aparecendo por aqui. A realidade do brasileiro pobre é de partir o coração, ou cerro os dentes de ódio, ou me entristeço por dentro, desolado pela impotência. No fim das contas, acompanho isso todo dia aqui onde moro, antigamente todo final de semana o cheirinho de churrasco permeava as vielas aqui da Vila. Hoje em dia, o único cheiro é o de lixo revirado pelos animais, e pelas pessoas.\n",
      "\n",
      "- Emoções: Neutral\n",
      "- Texto: Time paulista acusa calote em empréstimo de atleta, vai à Justiça e tenta penhorar cotas de TV do Botafogo\n",
      "\n",
      "- Emoções: Anger Disgust\n",
      "- Texto: Esse governo cria apoiadores que não estão dispostos a questionar nada, e nem a fazer uma autocrítica. \"Porque deus quis\" é desculpa pra qualquer coisa. Fora os \"seguidores\" que distorcem as palavras do senhor pra poder criar ainda mais violência e ódio, vide um imbecil aí que diz ser seguidor dele, defensor da família, mas na prática, só defende a família dele mesmo.\n",
      "\n",
      "- Emoções: Anger Disgust Sadness\n",
      "- Texto: eu sou um lixo velho!\n",
      "\n",
      "- Emoções: Disgust\n",
      "- Texto: tava perfeito até a parte que ele arranca o coração do cara\n",
      "\n",
      "- Emoções: Anger\n",
      "- Texto: pessoas que amam caridade, mas odeiam melhoras sociais. É mais fácil limpar a consciência com pequenas ações do que parar pra pensar no que faz/propaga social e politicamente.\n",
      "\n",
      "Sua Tarefa:\n",
      "- Gerar um texto em português seguindo o estilo dos exemplos fornecidos.\n",
      "- Atender às seguintes características:\n",
      "  - Emoções PARA GERAR (IMPORTANTE): Disgust com intensidade baixo\n",
      "  - Tamanho do texto: Pequeno\n",
      "- Certifique-se de que as emoções aparecem no texto nas intensidades indicadas, mas sem tornar isso explícito ou forçado.\n",
      "\n",
      "Regras Importantes:\n",
      "1. Não copie os exemplos diretamente. Use sua criatividade para criar algo original.\n",
      "2. O texto deve parecer uma postagem real, como se fosse escrito por uma pessoa comum.\n",
      "3. Evite clichês ou exageros que possam tornar o texto artificial.\n",
      "4. Foque na linguagem e tom apropriados para um post informal, mas autêntico.\n",
      "\n",
      "Gere o texto solicitado abaixo:\n",
      "\n"
     ]
    }
   ],
   "source": [
    "print(prompt)"
   ]
  },
  {
   "cell_type": "markdown",
   "metadata": {},
   "source": [
    "#### GERANDO E SALVANDO"
   ]
  },
  {
   "cell_type": "code",
   "execution_count": 28,
   "metadata": {},
   "outputs": [],
   "source": [
    "json_file = 'dados_sinteticos.json'\n",
    "json_controller = Json_controller(json_file)\n",
    "data = json_controller.load_data()"
   ]
  },
  {
   "cell_type": "code",
   "execution_count": 29,
   "metadata": {},
   "outputs": [],
   "source": [
    "n_examples = 10000"
   ]
  },
  {
   "cell_type": "code",
   "execution_count": 31,
   "metadata": {},
   "outputs": [
    {
     "name": "stdout",
     "output_type": "stream",
     "text": [
      "Generating example 1/10000   -  EMOTION: {'Disgust': 'baixo', 'Surprise': 'baixo'}    -   CATEGORY: Grande\n",
      "Generating example 2/10000   -  EMOTION: {'Disgust': 'baixo', 'Sadness': 'baixo', 'Surprise': 'baixo'}    -   CATEGORY: Médio\n",
      "Generating example 3/10000   -  EMOTION: {'Joy': 'moderado', 'Sadness': 'baixo', 'Surprise': 'moderado'}    -   CATEGORY: Grande\n",
      "Generating example 4/10000   -  EMOTION: {'Anger': 'baixo', 'Disgust': 'baixo', 'Surprise': 'baixo'}    -   CATEGORY: Médio\n",
      "Generating example 5/10000   -  EMOTION: {'Disgust': 'baixo'}    -   CATEGORY: Médio\n",
      "Generating example 6/10000   -  EMOTION: {'Anger': 'baixo', 'Disgust': 'baixo', 'Fear': 'alto', 'Sadness': 'moderado'}    -   CATEGORY: Grande\n",
      "Generating example 7/10000   -  EMOTION: {'Disgust': 'baixo', 'Sadness': 'baixo', 'Surprise': 'baixo'}    -   CATEGORY: Grande\n",
      "Generating example 8/10000   -  EMOTION: {'Disgust': 'baixo', 'Fear': 'baixo'}    -   CATEGORY: Pequeno\n",
      "Generating example 9/10000   -  EMOTION: {'Disgust': 'baixo', 'Surprise': 'baixo'}    -   CATEGORY: Grande\n",
      "Generating example 10/10000   -  EMOTION: {'Fear': 'alto', 'Joy': 'moderado', 'Sadness': 'baixo'}    -   CATEGORY: Pequeno\n",
      "Generating example 11/10000   -  EMOTION: {'Sadness': 'baixo', 'Surprise': 'baixo'}    -   CATEGORY: Médio\n",
      "Generating example 12/10000   -  EMOTION: {'Disgust': 'baixo', 'Sadness': 'baixo'}    -   CATEGORY: Grande\n",
      "Generating example 13/10000   -  EMOTION: {'Anger': 'baixo', 'Joy': 'baixo', 'Sadness': 'alto'}    -   CATEGORY: Grande\n",
      "Generating example 14/10000   -  EMOTION: {'Fear': 'baixo', 'Joy': 'baixo', 'Sadness': 'moderado'}    -   CATEGORY: Grande\n",
      "Generating example 15/10000   -  EMOTION: {'Disgust': 'moderado', 'Fear': 'baixo'}    -   CATEGORY: Grande\n",
      "Generating example 16/10000   -  EMOTION: {'Disgust': 'moderado', 'Sadness': 'baixo', 'Surprise': 'baixo'}    -   CATEGORY: Pequeno\n",
      "Generating example 17/10000   -  EMOTION: {'Anger': 'moderado', 'Joy': 'baixo', 'Sadness': 'baixo'}    -   CATEGORY: Pequeno\n",
      "Generating example 18/10000   -  EMOTION: {'Disgust': 'baixo', 'Sadness': 'moderado'}    -   CATEGORY: Pequeno\n",
      "Generating example 19/10000   -  EMOTION: {'Joy': 'baixo', 'Sadness': 'baixo', 'Surprise': 'baixo'}    -   CATEGORY: Pequeno\n",
      "Generating example 20/10000   -  EMOTION: {'Anger': 'moderado', 'Disgust': 'baixo', 'Sadness': 'baixo'}    -   CATEGORY: Grande\n",
      "Generating example 21/10000   -  EMOTION: {'Anger': 'baixo', 'Disgust': 'baixo', 'Fear': 'baixo', 'Sadness': 'alto'}    -   CATEGORY: Grande\n",
      "Generating example 22/10000   -  EMOTION: {'Sadness': 'alto', 'Surprise': 'baixo'}    -   CATEGORY: Médio\n",
      "Generating example 23/10000   -  EMOTION: {'Anger': 'baixo', 'Joy': 'moderado', 'Sadness': 'baixo'}    -   CATEGORY: Grande\n",
      "Generating example 24/10000   -  EMOTION: {'Disgust': 'baixo', 'Sadness': 'moderado', 'Surprise': 'baixo'}    -   CATEGORY: Pequeno\n",
      "Generating example 25/10000   -  EMOTION: {'Disgust': 'baixo', 'Fear': 'baixo'}    -   CATEGORY: Médio\n",
      "Generating example 26/10000   -  EMOTION: {'Fear': 'baixo', 'Surprise': 'baixo'}    -   CATEGORY: Grande\n",
      "Generating example 27/10000   -  EMOTION: {'Anger': 'baixo', 'Sadness': 'moderado', 'Surprise': 'baixo'}    -   CATEGORY: Grande\n",
      "Generating example 28/10000   -  EMOTION: {'Anger': 'baixo', 'Joy': 'baixo', 'Surprise': 'baixo'}    -   CATEGORY: Grande\n",
      "Generating example 29/10000   -  EMOTION: {'Anger': 'moderado', 'Disgust': 'baixo', 'Fear': 'baixo', 'Sadness': 'moderado'}    -   CATEGORY: Médio\n",
      "Generating example 30/10000   -  EMOTION: {'Joy': 'baixo', 'Sadness': 'moderado', 'Surprise': 'baixo'}    -   CATEGORY: Médio\n",
      "Generating example 31/10000   -  EMOTION: {'Fear': 'moderado', 'Surprise': 'baixo'}    -   CATEGORY: Grande\n",
      "Generating example 32/10000   -  EMOTION: {'Anger': 'moderado', 'Fear': 'baixo'}    -   CATEGORY: Grande\n",
      "Generating example 33/10000   -  EMOTION: {'Surprise': 'baixo'}    -   CATEGORY: Médio\n",
      "Generating example 34/10000   -  EMOTION: {'Sadness': 'moderado', 'Surprise': 'baixo'}    -   CATEGORY: Médio\n",
      "Generating example 35/10000   -  EMOTION: {'Disgust': 'baixo', 'Fear': 'baixo'}    -   CATEGORY: Pequeno\n",
      "Generating example 36/10000   -  EMOTION: {'Anger': 'moderado', 'Disgust': 'baixo', 'Surprise': 'baixo'}    -   CATEGORY: Médio\n",
      "Generating example 37/10000   -  EMOTION: {'Disgust': 'moderado', 'Surprise': 'baixo'}    -   CATEGORY: Médio\n",
      "Generating example 38/10000   -  EMOTION: {'Fear': 'moderado', 'Sadness': 'baixo'}    -   CATEGORY: Grande\n",
      "Generating example 39/10000   -  EMOTION: {'Disgust': 'baixo'}    -   CATEGORY: Médio\n",
      "Generating example 40/10000   -  EMOTION: {'Joy': 'baixo', 'Sadness': 'baixo'}    -   CATEGORY: Grande\n",
      "Generating example 41/10000   -  EMOTION: {'Fear': 'baixo', 'Joy': 'moderado', 'Sadness': 'baixo'}    -   CATEGORY: Médio\n",
      "Generating example 42/10000   -  EMOTION: {'Anger': 'baixo', 'Sadness': 'baixo', 'Surprise': 'baixo'}    -   CATEGORY: Pequeno\n",
      "Generating example 43/10000   -  EMOTION: {'Anger': 'baixo', 'Disgust': 'baixo', 'Fear': 'baixo', 'Sadness': 'baixo'}    -   CATEGORY: Pequeno\n",
      "Generating example 44/10000   -  EMOTION: {'Joy': 'moderado', 'Sadness': 'baixo', 'Surprise': 'baixo'}    -   CATEGORY: Pequeno\n",
      "Generating example 45/10000   -  EMOTION: {'Anger': 'baixo', 'Fear': 'baixo', 'Surprise': 'moderado'}    -   CATEGORY: Médio\n",
      "Generating example 46/10000   -  EMOTION: {'Disgust': 'baixo'}    -   CATEGORY: Grande\n",
      "Generating example 47/10000   -  EMOTION: {'Disgust': 'baixo'}    -   CATEGORY: Grande\n",
      "Generating example 48/10000   -  EMOTION: {'Joy': 'baixo', 'Sadness': 'alto', 'Surprise': 'baixo'}    -   CATEGORY: Grande\n",
      "Generating example 49/10000   -  EMOTION: {'Anger': 'moderado', 'Sadness': 'baixo', 'Surprise': 'baixo'}    -   CATEGORY: Pequeno\n",
      "Generating example 50/10000   -  EMOTION: {'Anger': 'baixo', 'Disgust': 'baixo', 'Sadness': 'moderado'}    -   CATEGORY: Pequeno\n",
      "Generating example 51/10000   -  EMOTION: {'Anger': 'baixo', 'Fear': 'baixo', 'Sadness': 'baixo'}    -   CATEGORY: Grande\n",
      "Generating example 52/10000   -  EMOTION: {'Anger': 'baixo', 'Disgust': 'moderado', 'Fear': 'baixo', 'Sadness': 'alto'}    -   CATEGORY: Pequeno\n",
      "Generating example 53/10000   -  EMOTION: {'Fear': 'baixo', 'Surprise': 'moderado'}    -   CATEGORY: Médio\n",
      "Generating example 54/10000   -  EMOTION: {'Joy': 'moderado', 'Sadness': 'baixo', 'Surprise': 'baixo'}    -   CATEGORY: Médio\n",
      "Generating example 55/10000   -  EMOTION: {'Fear': 'baixo', 'Joy': 'moderado', 'Sadness': 'baixo'}    -   CATEGORY: Grande\n",
      "Generating example 56/10000   -  EMOTION: {'Anger': 'baixo', 'Disgust': 'baixo', 'Fear': 'moderado', 'Sadness': 'moderado'}    -   CATEGORY: Médio\n",
      "Generating example 57/10000   -  EMOTION: {'Fear': 'baixo', 'Surprise': 'baixo'}    -   CATEGORY: Médio\n",
      "Generating example 58/10000   -  EMOTION: {'Joy': 'baixo', 'Sadness': 'baixo', 'Surprise': 'moderado'}    -   CATEGORY: Médio\n",
      "Generating example 59/10000   -  EMOTION: {'Anger': 'baixo', 'Fear': 'baixo'}    -   CATEGORY: Médio\n",
      "Generating example 60/10000   -  EMOTION: {'Sadness': 'moderado', 'Surprise': 'moderado'}    -   CATEGORY: Pequeno\n",
      "Generating example 61/10000   -  EMOTION: {'Sadness': 'moderado'}    -   CATEGORY: Médio\n",
      "Generating example 62/10000   -  EMOTION: {'Fear': 'baixo', 'Surprise': 'moderado'}    -   CATEGORY: Grande\n",
      "Generating example 63/10000   -  EMOTION: {'Anger': 'baixo', 'Fear': 'baixo', 'Surprise': 'baixo'}    -   CATEGORY: Grande\n",
      "Generating example 64/10000   -  EMOTION: {'Fear': 'baixo', 'Joy': 'moderado'}    -   CATEGORY: Pequeno\n",
      "Generating example 65/10000   -  EMOTION: {'Fear': 'moderado', 'Surprise': 'moderado'}    -   CATEGORY: Grande\n",
      "Generating example 66/10000   -  EMOTION: {'Disgust': 'baixo', 'Sadness': 'moderado', 'Surprise': 'baixo'}    -   CATEGORY: Médio\n",
      "Generating example 67/10000   -  EMOTION: {'Disgust': 'baixo', 'Surprise': 'moderado'}    -   CATEGORY: Grande\n",
      "Generating example 68/10000   -  EMOTION: {'Anger': 'baixo', 'Joy': 'baixo', 'Surprise': 'baixo'}    -   CATEGORY: Grande\n",
      "Generating example 69/10000   -  EMOTION: {'Anger': 'baixo', 'Joy': 'baixo', 'Surprise': 'moderado'}    -   CATEGORY: Grande\n",
      "Generating example 70/10000   -  EMOTION: {'Sadness': 'baixo', 'Surprise': 'alto'}    -   CATEGORY: Grande\n",
      "Generating example 71/10000   -  EMOTION: {'Anger': 'moderado', 'Fear': 'baixo', 'Sadness': 'moderado'}    -   CATEGORY: Grande\n",
      "Generating example 72/10000   -  EMOTION: {'Disgust': 'baixo', 'Sadness': 'baixo', 'Surprise': 'alto'}    -   CATEGORY: Médio\n",
      "Generating example 73/10000   -  EMOTION: {'Disgust': 'baixo', 'Sadness': 'baixo'}    -   CATEGORY: Grande\n",
      "Generating example 74/10000   -  EMOTION: {'Anger': 'baixo', 'Disgust': 'baixo', 'Fear': 'moderado', 'Sadness': 'moderado'}    -   CATEGORY: Pequeno\n",
      "Generating example 75/10000   -  EMOTION: {'Anger': 'baixo', 'Joy': 'moderado', 'Sadness': 'baixo'}    -   CATEGORY: Pequeno\n",
      "Generating example 76/10000   -  EMOTION: {'Disgust': 'baixo', 'Fear': 'baixo'}    -   CATEGORY: Pequeno\n",
      "Generating example 77/10000   -  EMOTION: {'Sadness': 'baixo', 'Surprise': 'moderado'}    -   CATEGORY: Grande\n",
      "Generating example 78/10000   -  EMOTION: {'Disgust': 'baixo', 'Surprise': 'baixo'}    -   CATEGORY: Grande\n",
      "Generating example 79/10000   -  EMOTION: {'Joy': 'baixo', 'Sadness': 'alto'}    -   CATEGORY: Pequeno\n",
      "Generating example 80/10000   -  EMOTION: {'Anger': 'baixo', 'Fear': 'moderado', 'Surprise': 'baixo'}    -   CATEGORY: Médio\n",
      "Generating example 81/10000   -  EMOTION: {'Anger': 'moderado', 'Disgust': 'alto', 'Fear': 'baixo', 'Sadness': 'baixo'}    -   CATEGORY: Grande\n",
      "Generating example 82/10000   -  EMOTION: {'Anger': 'baixo', 'Joy': 'moderado', 'Surprise': 'baixo'}    -   CATEGORY: Médio\n",
      "Generating example 83/10000   -  EMOTION: {'Anger': 'baixo', 'Joy': 'baixo', 'Sadness': 'baixo'}    -   CATEGORY: Grande\n",
      "Generating example 84/10000   -  EMOTION: {'Anger': 'moderado', 'Sadness': 'moderado', 'Surprise': 'baixo'}    -   CATEGORY: Grande\n",
      "Generating example 85/10000   -  EMOTION: {'Disgust': 'baixo', 'Fear': 'moderado'}    -   CATEGORY: Médio\n",
      "Generating example 86/10000   -  EMOTION: {'Joy': 'moderado', 'Surprise': 'moderado'}    -   CATEGORY: Grande\n",
      "Generating example 87/10000   -  EMOTION: {'Anger': 'moderado', 'Disgust': 'baixo', 'Surprise': 'baixo'}    -   CATEGORY: Grande\n",
      "Generating example 88/10000   -  EMOTION: {'Anger': 'baixo', 'Disgust': 'baixo', 'Surprise': 'alto'}    -   CATEGORY: Pequeno\n",
      "Generating example 89/10000   -  EMOTION: {'Disgust': 'baixo', 'Surprise': 'baixo'}    -   CATEGORY: Grande\n",
      "Generating example 90/10000   -  EMOTION: {'Anger': 'baixo', 'Fear': 'baixo', 'Sadness': 'baixo'}    -   CATEGORY: Médio\n",
      "Generating example 91/10000   -  EMOTION: {'Sadness': 'baixo', 'Surprise': 'baixo'}    -   CATEGORY: Grande\n",
      "Generating example 92/10000   -  EMOTION: {'Disgust': 'baixo'}    -   CATEGORY: Médio\n",
      "Generating example 93/10000   -  EMOTION: {'Fear': 'baixo', 'Sadness': 'moderado'}    -   CATEGORY: Grande\n",
      "Generating example 94/10000   -  EMOTION: {'Disgust': 'baixo'}    -   CATEGORY: Pequeno\n",
      "Generating example 95/10000   -  EMOTION: {'Joy': 'moderado', 'Surprise': 'moderado'}    -   CATEGORY: Pequeno\n",
      "Generating example 96/10000   -  EMOTION: {'Sadness': 'baixo', 'Surprise': 'baixo'}    -   CATEGORY: Pequeno\n",
      "Generating example 97/10000   -  EMOTION: {'Anger': 'baixo', 'Disgust': 'baixo', 'Surprise': 'alto'}    -   CATEGORY: Médio\n",
      "Generating example 98/10000   -  EMOTION: {'Fear': 'moderado', 'Sadness': 'baixo'}    -   CATEGORY: Grande\n",
      "Generating example 99/10000   -  EMOTION: {'Disgust': 'baixo', 'Surprise': 'baixo'}    -   CATEGORY: Grande\n",
      "Generating example 100/10000   -  EMOTION: {'Sadness': 'moderado', 'Surprise': 'baixo'}    -   CATEGORY: Pequeno\n",
      "Generating example 101/10000   -  EMOTION: {'Anger': 'moderado', 'Joy': 'moderado', 'Surprise': 'moderado'}    -   CATEGORY: Pequeno\n",
      "Generating example 102/10000   -  EMOTION: {'Disgust': 'baixo', 'Sadness': 'baixo', 'Surprise': 'baixo'}    -   CATEGORY: Pequeno\n",
      "Generating example 103/10000   -  EMOTION: {'Fear': 'baixo', 'Joy': 'alto'}    -   CATEGORY: Grande\n",
      "Generating example 104/10000   -  EMOTION: {'Anger': 'baixo', 'Fear': 'baixo', 'Sadness': 'baixo'}    -   CATEGORY: Médio\n",
      "Generating example 105/10000   -  EMOTION: {'Anger': 'baixo', 'Fear': 'baixo', 'Surprise': 'baixo'}    -   CATEGORY: Médio\n"
     ]
    },
    {
     "ename": "Exception",
     "evalue": "Erro ao invocar o modelo: You exceeded your current quota, please check your plan and billing details. For more information on this error, read the docs: https://platform.openai.com/docs/guides/error-codes/api-errors.",
     "output_type": "error",
     "traceback": [
      "\u001b[0;31m---------------------------------------------------------------------------\u001b[0m",
      "\u001b[0;31mRateLimitError\u001b[0m                            Traceback (most recent call last)",
      "File \u001b[0;32m~/Documents/VsCode/Emotion-Detection---SemEval-2025-Task-11/utils/Gpt_generator.py:40\u001b[0m, in \u001b[0;36mGpt_generator.invoke\u001b[0;34m(self, prompt)\u001b[0m\n\u001b[1;32m     39\u001b[0m \u001b[38;5;28;01mtry\u001b[39;00m:\n\u001b[0;32m---> 40\u001b[0m     response \u001b[38;5;241m=\u001b[39m \u001b[43mopenai\u001b[49m\u001b[38;5;241;43m.\u001b[39;49m\u001b[43mChatCompletion\u001b[49m\u001b[38;5;241;43m.\u001b[39;49m\u001b[43mcreate\u001b[49m\u001b[43m(\u001b[49m\n\u001b[1;32m     41\u001b[0m \u001b[43m        \u001b[49m\u001b[43mmodel\u001b[49m\u001b[38;5;241;43m=\u001b[39;49m\u001b[38;5;28;43mself\u001b[39;49m\u001b[38;5;241;43m.\u001b[39;49m\u001b[43mmodel\u001b[49m\u001b[43m,\u001b[49m\n\u001b[1;32m     42\u001b[0m \u001b[43m        \u001b[49m\u001b[43mmessages\u001b[49m\u001b[38;5;241;43m=\u001b[39;49m\u001b[43m[\u001b[49m\n\u001b[1;32m     43\u001b[0m \u001b[43m            \u001b[49m\u001b[43m{\u001b[49m\n\u001b[1;32m     44\u001b[0m \u001b[43m                \u001b[49m\u001b[38;5;124;43m\"\u001b[39;49m\u001b[38;5;124;43mrole\u001b[39;49m\u001b[38;5;124;43m\"\u001b[39;49m\u001b[43m:\u001b[49m\u001b[43m \u001b[49m\u001b[38;5;124;43m\"\u001b[39;49m\u001b[38;5;124;43muser\u001b[39;49m\u001b[38;5;124;43m\"\u001b[39;49m\u001b[43m,\u001b[49m\n\u001b[1;32m     45\u001b[0m \u001b[43m                \u001b[49m\u001b[38;5;124;43m\"\u001b[39;49m\u001b[38;5;124;43mcontent\u001b[39;49m\u001b[38;5;124;43m\"\u001b[39;49m\u001b[43m:\u001b[49m\u001b[43m \u001b[49m\u001b[43mprompt\u001b[49m\u001b[43m,\u001b[49m\n\u001b[1;32m     46\u001b[0m \u001b[43m            \u001b[49m\u001b[43m}\u001b[49m\n\u001b[1;32m     47\u001b[0m \u001b[43m        \u001b[49m\u001b[43m]\u001b[49m\u001b[43m,\u001b[49m\n\u001b[1;32m     48\u001b[0m \u001b[43m    \u001b[49m\u001b[43m)\u001b[49m\n\u001b[1;32m     49\u001b[0m     \u001b[38;5;28;01mreturn\u001b[39;00m response[\u001b[38;5;124m'\u001b[39m\u001b[38;5;124mchoices\u001b[39m\u001b[38;5;124m'\u001b[39m][\u001b[38;5;241m0\u001b[39m][\u001b[38;5;124m'\u001b[39m\u001b[38;5;124mmessage\u001b[39m\u001b[38;5;124m'\u001b[39m][\u001b[38;5;124m'\u001b[39m\u001b[38;5;124mcontent\u001b[39m\u001b[38;5;124m'\u001b[39m]\u001b[38;5;241m.\u001b[39mstrip()\n",
      "File \u001b[0;32m~/Documents/VsCode/venv/lib/python3.12/site-packages/openai/api_resources/chat_completion.py:25\u001b[0m, in \u001b[0;36mChatCompletion.create\u001b[0;34m(cls, *args, **kwargs)\u001b[0m\n\u001b[1;32m     24\u001b[0m \u001b[38;5;28;01mtry\u001b[39;00m:\n\u001b[0;32m---> 25\u001b[0m     \u001b[38;5;28;01mreturn\u001b[39;00m \u001b[38;5;28;43msuper\u001b[39;49m\u001b[43m(\u001b[49m\u001b[43m)\u001b[49m\u001b[38;5;241;43m.\u001b[39;49m\u001b[43mcreate\u001b[49m\u001b[43m(\u001b[49m\u001b[38;5;241;43m*\u001b[39;49m\u001b[43margs\u001b[49m\u001b[43m,\u001b[49m\u001b[43m \u001b[49m\u001b[38;5;241;43m*\u001b[39;49m\u001b[38;5;241;43m*\u001b[39;49m\u001b[43mkwargs\u001b[49m\u001b[43m)\u001b[49m\n\u001b[1;32m     26\u001b[0m \u001b[38;5;28;01mexcept\u001b[39;00m TryAgain \u001b[38;5;28;01mas\u001b[39;00m e:\n",
      "File \u001b[0;32m~/Documents/VsCode/venv/lib/python3.12/site-packages/openai/api_resources/abstract/engine_api_resource.py:153\u001b[0m, in \u001b[0;36mEngineAPIResource.create\u001b[0;34m(cls, api_key, api_base, api_type, request_id, api_version, organization, **params)\u001b[0m\n\u001b[1;32m    138\u001b[0m (\n\u001b[1;32m    139\u001b[0m     deployment_id,\n\u001b[1;32m    140\u001b[0m     engine,\n\u001b[0;32m   (...)\u001b[0m\n\u001b[1;32m    150\u001b[0m     api_key, api_base, api_type, api_version, organization, \u001b[38;5;241m*\u001b[39m\u001b[38;5;241m*\u001b[39mparams\n\u001b[1;32m    151\u001b[0m )\n\u001b[0;32m--> 153\u001b[0m response, _, api_key \u001b[38;5;241m=\u001b[39m \u001b[43mrequestor\u001b[49m\u001b[38;5;241;43m.\u001b[39;49m\u001b[43mrequest\u001b[49m\u001b[43m(\u001b[49m\n\u001b[1;32m    154\u001b[0m \u001b[43m    \u001b[49m\u001b[38;5;124;43m\"\u001b[39;49m\u001b[38;5;124;43mpost\u001b[39;49m\u001b[38;5;124;43m\"\u001b[39;49m\u001b[43m,\u001b[49m\n\u001b[1;32m    155\u001b[0m \u001b[43m    \u001b[49m\u001b[43murl\u001b[49m\u001b[43m,\u001b[49m\n\u001b[1;32m    156\u001b[0m \u001b[43m    \u001b[49m\u001b[43mparams\u001b[49m\u001b[38;5;241;43m=\u001b[39;49m\u001b[43mparams\u001b[49m\u001b[43m,\u001b[49m\n\u001b[1;32m    157\u001b[0m \u001b[43m    \u001b[49m\u001b[43mheaders\u001b[49m\u001b[38;5;241;43m=\u001b[39;49m\u001b[43mheaders\u001b[49m\u001b[43m,\u001b[49m\n\u001b[1;32m    158\u001b[0m \u001b[43m    \u001b[49m\u001b[43mstream\u001b[49m\u001b[38;5;241;43m=\u001b[39;49m\u001b[43mstream\u001b[49m\u001b[43m,\u001b[49m\n\u001b[1;32m    159\u001b[0m \u001b[43m    \u001b[49m\u001b[43mrequest_id\u001b[49m\u001b[38;5;241;43m=\u001b[39;49m\u001b[43mrequest_id\u001b[49m\u001b[43m,\u001b[49m\n\u001b[1;32m    160\u001b[0m \u001b[43m    \u001b[49m\u001b[43mrequest_timeout\u001b[49m\u001b[38;5;241;43m=\u001b[39;49m\u001b[43mrequest_timeout\u001b[49m\u001b[43m,\u001b[49m\n\u001b[1;32m    161\u001b[0m \u001b[43m\u001b[49m\u001b[43m)\u001b[49m\n\u001b[1;32m    163\u001b[0m \u001b[38;5;28;01mif\u001b[39;00m stream:\n\u001b[1;32m    164\u001b[0m     \u001b[38;5;66;03m# must be an iterator\u001b[39;00m\n",
      "File \u001b[0;32m~/Documents/VsCode/venv/lib/python3.12/site-packages/openai/api_requestor.py:298\u001b[0m, in \u001b[0;36mAPIRequestor.request\u001b[0;34m(self, method, url, params, headers, files, stream, request_id, request_timeout)\u001b[0m\n\u001b[1;32m    288\u001b[0m result \u001b[38;5;241m=\u001b[39m \u001b[38;5;28mself\u001b[39m\u001b[38;5;241m.\u001b[39mrequest_raw(\n\u001b[1;32m    289\u001b[0m     method\u001b[38;5;241m.\u001b[39mlower(),\n\u001b[1;32m    290\u001b[0m     url,\n\u001b[0;32m   (...)\u001b[0m\n\u001b[1;32m    296\u001b[0m     request_timeout\u001b[38;5;241m=\u001b[39mrequest_timeout,\n\u001b[1;32m    297\u001b[0m )\n\u001b[0;32m--> 298\u001b[0m resp, got_stream \u001b[38;5;241m=\u001b[39m \u001b[38;5;28;43mself\u001b[39;49m\u001b[38;5;241;43m.\u001b[39;49m\u001b[43m_interpret_response\u001b[49m\u001b[43m(\u001b[49m\u001b[43mresult\u001b[49m\u001b[43m,\u001b[49m\u001b[43m \u001b[49m\u001b[43mstream\u001b[49m\u001b[43m)\u001b[49m\n\u001b[1;32m    299\u001b[0m \u001b[38;5;28;01mreturn\u001b[39;00m resp, got_stream, \u001b[38;5;28mself\u001b[39m\u001b[38;5;241m.\u001b[39mapi_key\n",
      "File \u001b[0;32m~/Documents/VsCode/venv/lib/python3.12/site-packages/openai/api_requestor.py:700\u001b[0m, in \u001b[0;36mAPIRequestor._interpret_response\u001b[0;34m(self, result, stream)\u001b[0m\n\u001b[1;32m    698\u001b[0m \u001b[38;5;28;01melse\u001b[39;00m:\n\u001b[1;32m    699\u001b[0m     \u001b[38;5;28;01mreturn\u001b[39;00m (\n\u001b[0;32m--> 700\u001b[0m         \u001b[38;5;28;43mself\u001b[39;49m\u001b[38;5;241;43m.\u001b[39;49m\u001b[43m_interpret_response_line\u001b[49m\u001b[43m(\u001b[49m\n\u001b[1;32m    701\u001b[0m \u001b[43m            \u001b[49m\u001b[43mresult\u001b[49m\u001b[38;5;241;43m.\u001b[39;49m\u001b[43mcontent\u001b[49m\u001b[38;5;241;43m.\u001b[39;49m\u001b[43mdecode\u001b[49m\u001b[43m(\u001b[49m\u001b[38;5;124;43m\"\u001b[39;49m\u001b[38;5;124;43mutf-8\u001b[39;49m\u001b[38;5;124;43m\"\u001b[39;49m\u001b[43m)\u001b[49m\u001b[43m,\u001b[49m\n\u001b[1;32m    702\u001b[0m \u001b[43m            \u001b[49m\u001b[43mresult\u001b[49m\u001b[38;5;241;43m.\u001b[39;49m\u001b[43mstatus_code\u001b[49m\u001b[43m,\u001b[49m\n\u001b[1;32m    703\u001b[0m \u001b[43m            \u001b[49m\u001b[43mresult\u001b[49m\u001b[38;5;241;43m.\u001b[39;49m\u001b[43mheaders\u001b[49m\u001b[43m,\u001b[49m\n\u001b[1;32m    704\u001b[0m \u001b[43m            \u001b[49m\u001b[43mstream\u001b[49m\u001b[38;5;241;43m=\u001b[39;49m\u001b[38;5;28;43;01mFalse\u001b[39;49;00m\u001b[43m,\u001b[49m\n\u001b[1;32m    705\u001b[0m \u001b[43m        \u001b[49m\u001b[43m)\u001b[49m,\n\u001b[1;32m    706\u001b[0m         \u001b[38;5;28;01mFalse\u001b[39;00m,\n\u001b[1;32m    707\u001b[0m     )\n",
      "File \u001b[0;32m~/Documents/VsCode/venv/lib/python3.12/site-packages/openai/api_requestor.py:765\u001b[0m, in \u001b[0;36mAPIRequestor._interpret_response_line\u001b[0;34m(self, rbody, rcode, rheaders, stream)\u001b[0m\n\u001b[1;32m    764\u001b[0m \u001b[38;5;28;01mif\u001b[39;00m stream_error \u001b[38;5;129;01mor\u001b[39;00m \u001b[38;5;129;01mnot\u001b[39;00m \u001b[38;5;241m200\u001b[39m \u001b[38;5;241m<\u001b[39m\u001b[38;5;241m=\u001b[39m rcode \u001b[38;5;241m<\u001b[39m \u001b[38;5;241m300\u001b[39m:\n\u001b[0;32m--> 765\u001b[0m     \u001b[38;5;28;01mraise\u001b[39;00m \u001b[38;5;28mself\u001b[39m\u001b[38;5;241m.\u001b[39mhandle_error_response(\n\u001b[1;32m    766\u001b[0m         rbody, rcode, resp\u001b[38;5;241m.\u001b[39mdata, rheaders, stream_error\u001b[38;5;241m=\u001b[39mstream_error\n\u001b[1;32m    767\u001b[0m     )\n\u001b[1;32m    768\u001b[0m \u001b[38;5;28;01mreturn\u001b[39;00m resp\n",
      "\u001b[0;31mRateLimitError\u001b[0m: You exceeded your current quota, please check your plan and billing details. For more information on this error, read the docs: https://platform.openai.com/docs/guides/error-codes/api-errors.",
      "\nDuring handling of the above exception, another exception occurred:\n",
      "\u001b[0;31mException\u001b[0m                                 Traceback (most recent call last)",
      "Cell \u001b[0;32mIn[31], line 10\u001b[0m\n\u001b[1;32m      5\u001b[0m \u001b[38;5;28mprint\u001b[39m(\u001b[38;5;124mf\u001b[39m\u001b[38;5;124m\"\u001b[39m\u001b[38;5;124mGenerating example \u001b[39m\u001b[38;5;132;01m{\u001b[39;00mn\u001b[38;5;241m+\u001b[39m\u001b[38;5;241m1\u001b[39m\u001b[38;5;132;01m}\u001b[39;00m\u001b[38;5;124m/\u001b[39m\u001b[38;5;132;01m{\u001b[39;00mn_examples\u001b[38;5;132;01m}\u001b[39;00m\u001b[38;5;124m   -  EMOTION: \u001b[39m\u001b[38;5;132;01m{\u001b[39;00mintensity_emotion\u001b[38;5;132;01m}\u001b[39;00m\u001b[38;5;124m    -   CATEGORY: \u001b[39m\u001b[38;5;132;01m{\u001b[39;00msampled_category\u001b[38;5;132;01m}\u001b[39;00m\u001b[38;5;124m\"\u001b[39m)\n\u001b[1;32m      8\u001b[0m prompt \u001b[38;5;241m=\u001b[39m get_prompt(intensity_emotion, sampled_category, df)\n\u001b[0;32m---> 10\u001b[0m text \u001b[38;5;241m=\u001b[39m \u001b[43mllm\u001b[49m\u001b[38;5;241;43m.\u001b[39;49m\u001b[43minvoke\u001b[49m\u001b[43m(\u001b[49m\u001b[43mprompt\u001b[49m\u001b[43m)\u001b[49m\n\u001b[1;32m     12\u001b[0m example_id \u001b[38;5;241m=\u001b[39m \u001b[38;5;124mf\u001b[39m\u001b[38;5;124m'\u001b[39m\u001b[38;5;124msynthetic_\u001b[39m\u001b[38;5;132;01m{\u001b[39;00mn\u001b[38;5;132;01m}\u001b[39;00m\u001b[38;5;124m'\u001b[39m\n\u001b[1;32m     14\u001b[0m emotions \u001b[38;5;241m=\u001b[39m { \u001b[38;5;124m\"\u001b[39m\u001b[38;5;124mAnger\u001b[39m\u001b[38;5;124m\"\u001b[39m: \u001b[38;5;241m0\u001b[39m, \u001b[38;5;124m\"\u001b[39m\u001b[38;5;124mDisgust\u001b[39m\u001b[38;5;124m\"\u001b[39m: \u001b[38;5;241m0\u001b[39m, \u001b[38;5;124m\"\u001b[39m\u001b[38;5;124mFear\u001b[39m\u001b[38;5;124m\"\u001b[39m: \u001b[38;5;241m0\u001b[39m, \u001b[38;5;124m\"\u001b[39m\u001b[38;5;124mJoy\u001b[39m\u001b[38;5;124m\"\u001b[39m: \u001b[38;5;241m0\u001b[39m, \u001b[38;5;124m\"\u001b[39m\u001b[38;5;124mSadness\u001b[39m\u001b[38;5;124m\"\u001b[39m: \u001b[38;5;241m0\u001b[39m, \u001b[38;5;124m\"\u001b[39m\u001b[38;5;124mSurprise\u001b[39m\u001b[38;5;124m\"\u001b[39m: \u001b[38;5;241m0\u001b[39m }\n",
      "File \u001b[0;32m~/Documents/VsCode/Emotion-Detection---SemEval-2025-Task-11/utils/Gpt_generator.py:51\u001b[0m, in \u001b[0;36mGpt_generator.invoke\u001b[0;34m(self, prompt)\u001b[0m\n\u001b[1;32m     49\u001b[0m     \u001b[38;5;28;01mreturn\u001b[39;00m response[\u001b[38;5;124m'\u001b[39m\u001b[38;5;124mchoices\u001b[39m\u001b[38;5;124m'\u001b[39m][\u001b[38;5;241m0\u001b[39m][\u001b[38;5;124m'\u001b[39m\u001b[38;5;124mmessage\u001b[39m\u001b[38;5;124m'\u001b[39m][\u001b[38;5;124m'\u001b[39m\u001b[38;5;124mcontent\u001b[39m\u001b[38;5;124m'\u001b[39m]\u001b[38;5;241m.\u001b[39mstrip()\n\u001b[1;32m     50\u001b[0m \u001b[38;5;28;01mexcept\u001b[39;00m \u001b[38;5;167;01mException\u001b[39;00m \u001b[38;5;28;01mas\u001b[39;00m e:\n\u001b[0;32m---> 51\u001b[0m     \u001b[38;5;28;01mraise\u001b[39;00m \u001b[38;5;167;01mException\u001b[39;00m(\u001b[38;5;124mf\u001b[39m\u001b[38;5;124m\"\u001b[39m\u001b[38;5;124mErro ao invocar o modelo: \u001b[39m\u001b[38;5;132;01m{\u001b[39;00me\u001b[38;5;132;01m}\u001b[39;00m\u001b[38;5;124m\"\u001b[39m)\n",
      "\u001b[0;31mException\u001b[0m: Erro ao invocar o modelo: You exceeded your current quota, please check your plan and billing details. For more information on this error, read the docs: https://platform.openai.com/docs/guides/error-codes/api-errors."
     ]
    }
   ],
   "source": [
    "i = len(data)\n",
    "for n in range(n_examples):    \n",
    "    intensity_emotion, sampled_category = amostra_categoria_e_emocao(emotion_counts, category_counts, intensity_counts) \n",
    "    \n",
    "    print(f\"Generating example {n+1}/{n_examples}   -  EMOTION: {intensity_emotion}    -   CATEGORY: {sampled_category}\")\n",
    "\n",
    "    \n",
    "    prompt = get_prompt(intensity_emotion, sampled_category, df)\n",
    "    \n",
    "    text = llm.invoke(prompt)\n",
    "    \n",
    "    example_id = f'synthetic_{n}'\n",
    "    \n",
    "    emotions = { \"Anger\": 0, \"Disgust\": 0, \"Fear\": 0, \"Joy\": 0, \"Sadness\": 0, \"Surprise\": 0 }\n",
    "    \n",
    "    for emotion, intensity in intensity_emotion.items():\n",
    "        if intensity in [\"baixo\", \"moderado\", \"alto\"]:\n",
    "            emotions[emotion] = 1\n",
    "        \n",
    "        \n",
    "    entry = {\n",
    "        \"id\": example_id,\n",
    "        \"text\": text,\n",
    "        **emotions\n",
    "    }\n",
    "    \n",
    "    data[str(n)] = entry\n",
    "    json_controller.save_data(data)\n",
    "    \n",
    "    time.sleep(4)"
   ]
  },
  {
   "cell_type": "code",
   "execution_count": null,
   "metadata": {},
   "outputs": [],
   "source": [
    "#todo: criar loop para geração dos dados\n",
    "#todo estruturar prompt\n",
    "#todo lidar com json de saída\n",
    "#todo salvar dados e subir no hf"
   ]
  },
  {
   "cell_type": "code",
   "execution_count": 26,
   "metadata": {},
   "outputs": [
    {
     "data": {
      "text/plain": [
       "{'Disgust': 'baixo', 'Fear': 'baixo'}"
      ]
     },
     "execution_count": 26,
     "metadata": {},
     "output_type": "execute_result"
    }
   ],
   "source": [
    "intensity_emotion"
   ]
  },
  {
   "cell_type": "code",
   "execution_count": null,
   "metadata": {},
   "outputs": [],
   "source": []
  }
 ],
 "metadata": {
  "kernelspec": {
   "display_name": "Python 3 (ipyflow)",
   "language": "python",
   "name": "ipyflow"
  },
  "language_info": {
   "codemirror_mode": {
    "name": "ipython",
    "version": 3
   },
   "file_extension": ".py",
   "mimetype": "text/x-python",
   "name": "python",
   "nbconvert_exporter": "python",
   "pygments_lexer": "ipython3",
   "version": "3.12.7"
  }
 },
 "nbformat": 4,
 "nbformat_minor": 2
}
